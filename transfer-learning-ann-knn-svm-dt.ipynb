{
 "cells": [
  {
   "cell_type": "markdown",
   "metadata": {
    "papermill": {
     "duration": 0.035539,
     "end_time": "2020-11-21T16:20:30.040486",
     "exception": false,
     "start_time": "2020-11-21T16:20:30.004947",
     "status": "completed"
    },
    "tags": []
   },
   "source": [
    "[https://blog.osmanballi.com](https://blog.osmanballi.com)"
   ]
  },
  {
   "cell_type": "markdown",
   "metadata": {
    "papermill": {
     "duration": 0.03272,
     "end_time": "2020-11-21T16:20:30.107345",
     "exception": false,
     "start_time": "2020-11-21T16:20:30.074625",
     "status": "completed"
    },
    "tags": []
   },
   "source": [
    "![](https://i.giphy.com/media/1ZDHH6zox36D1vfNsE/200w.webp)"
   ]
  },
  {
   "cell_type": "markdown",
   "metadata": {
    "papermill": {
     "duration": 0.032403,
     "end_time": "2020-11-21T16:20:30.172285",
     "exception": false,
     "start_time": "2020-11-21T16:20:30.139882",
     "status": "completed"
    },
    "tags": []
   },
   "source": [
    "# Transfer Learning"
   ]
  },
  {
   "cell_type": "markdown",
   "metadata": {
    "papermill": {
     "duration": 0.033216,
     "end_time": "2020-11-21T16:20:30.238728",
     "exception": false,
     "start_time": "2020-11-21T16:20:30.205512",
     "status": "completed"
    },
    "tags": []
   },
   "source": [
    "Learning transfer is a method of machine learning that stores the information that it receives when solving a problem, just like us, and uses that information when it encounters another problem. With learning transfer, models that show higher success and learn faster with less educational data are obtained using previous information."
   ]
  },
  {
   "cell_type": "markdown",
   "metadata": {
    "papermill": {
     "duration": 0.032502,
     "end_time": "2020-11-21T16:20:30.304226",
     "exception": false,
     "start_time": "2020-11-21T16:20:30.271724",
     "status": "completed"
    },
    "tags": []
   },
   "source": [
    "![](data:image/png;base64,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)"
   ]
  },
  {
   "cell_type": "markdown",
   "metadata": {
    "papermill": {
     "duration": 0.032798,
     "end_time": "2020-11-21T16:20:30.370667",
     "exception": false,
     "start_time": "2020-11-21T16:20:30.337869",
     "status": "completed"
    },
    "tags": []
   },
   "source": [
    "Normally a separate ‘learning from scratch’ is performed for each task in machine learning. But since it is possible and advantageous to use a number of information learned from some tasks in other tasks, the information obtained from the source tasks is used to solve the target task. Features and weights derived from previously trained models with learning transfer are used for a new task. For this method to work, the information to be transferred must be general information, meaning that instead of being specific to the source task, the information that is appropriate for both the source and target tasks is transferred."
   ]
  },
  {
   "cell_type": "markdown",
   "metadata": {
    "papermill": {
     "duration": 0.033035,
     "end_time": "2020-11-21T16:20:30.437287",
     "exception": false,
     "start_time": "2020-11-21T16:20:30.404252",
     "status": "completed"
    },
    "tags": []
   },
   "source": [
    "# What are we going to do with this study?"
   ]
  },
  {
   "cell_type": "markdown",
   "metadata": {
    "papermill": {
     "duration": 0.033063,
     "end_time": "2020-11-21T16:20:30.503173",
     "exception": false,
     "start_time": "2020-11-21T16:20:30.470110",
     "status": "completed"
    },
    "tags": []
   },
   "source": [
    "![](https://miro.medium.com/max/1000/1*LUFUl_8fqS97nUzpcFjgWw.png)"
   ]
  },
  {
   "cell_type": "markdown",
   "metadata": {
    "papermill": {
     "duration": 0.040891,
     "end_time": "2020-11-21T16:20:30.577273",
     "exception": false,
     "start_time": "2020-11-21T16:20:30.536382",
     "status": "completed"
    },
    "tags": []
   },
   "source": [
    "First, we will apply CNN to the data set of numbers. CNN also gives us an attribute layer after convalution and pooling operations. We will apply KNN,SVM and Decision Tree machine learning methods to this layer. We will compare the achievements achieved."
   ]
  },
  {
   "cell_type": "markdown",
   "metadata": {
    "papermill": {
     "duration": 0.032306,
     "end_time": "2020-11-21T16:20:30.642152",
     "exception": false,
     "start_time": "2020-11-21T16:20:30.609846",
     "status": "completed"
    },
    "tags": []
   },
   "source": [
    "# Let's go to study let..."
   ]
  },
  {
   "cell_type": "markdown",
   "metadata": {
    "papermill": {
     "duration": 0.032757,
     "end_time": "2020-11-21T16:20:30.707707",
     "exception": false,
     "start_time": "2020-11-21T16:20:30.674950",
     "status": "completed"
    },
    "tags": []
   },
   "source": [
    "# *- Editing of data*"
   ]
  },
  {
   "cell_type": "code",
   "execution_count": 1,
   "metadata": {
    "_cell_guid": "b1076dfc-b9ad-4769-8c92-a6c4dae69d19",
    "_uuid": "8f2839f25d086af736a60e9eeb907d3b93b6e0e5",
    "execution": {
     "iopub.execute_input": "2020-11-21T16:20:30.785745Z",
     "iopub.status.busy": "2020-11-21T16:20:30.785040Z",
     "iopub.status.idle": "2020-11-21T16:20:32.049312Z",
     "shell.execute_reply": "2020-11-21T16:20:32.050583Z"
    },
    "papermill": {
     "duration": 1.307821,
     "end_time": "2020-11-21T16:20:32.050799",
     "exception": false,
     "start_time": "2020-11-21T16:20:30.742978",
     "status": "completed"
    },
    "tags": []
   },
   "outputs": [
    {
     "name": "stdout",
     "output_type": "stream",
     "text": [
      "/kaggle/input/digit-recognizer/test.csv\n",
      "/kaggle/input/digit-recognizer/sample_submission.csv\n",
      "/kaggle/input/digit-recognizer/train.csv\n"
     ]
    }
   ],
   "source": [
    "import numpy as np # linear algebra\n",
    "import pandas as pd # data processing, CSV file I/O (e.g. pd.read_csv)\n",
    "import matplotlib.pyplot as plt\n",
    "import seaborn as sns\n",
    "from sklearn.model_selection import train_test_split\n",
    "import os\n",
    "for dirname, _, filenames in os.walk('/kaggle/input'):\n",
    "    for filename in filenames:\n",
    "        print(os.path.join(dirname, filename))"
   ]
  },
  {
   "cell_type": "code",
   "execution_count": 2,
   "metadata": {
    "execution": {
     "iopub.execute_input": "2020-11-21T16:20:32.156373Z",
     "iopub.status.busy": "2020-11-21T16:20:32.155475Z",
     "iopub.status.idle": "2020-11-21T16:20:32.192115Z",
     "shell.execute_reply": "2020-11-21T16:20:32.193440Z"
    },
    "papermill": {
     "duration": 0.091774,
     "end_time": "2020-11-21T16:20:32.193645",
     "exception": false,
     "start_time": "2020-11-21T16:20:32.101871",
     "status": "completed"
    },
    "tags": []
   },
   "outputs": [
    {
     "name": "stdout",
     "output_type": "stream",
     "text": [
      "   ImageId  Label\n",
      "0        1      0\n",
      "1        2      0\n",
      "2        3      0\n",
      "3        4      0\n",
      "4        5      0\n",
      "5        6      0\n",
      "6        7      0\n",
      "7        8      0\n",
      "8        9      0\n",
      "9       10      0\n",
      "(28000, 2)\n"
     ]
    }
   ],
   "source": [
    "Sample=pd.read_csv(\"../input/digit-recognizer/sample_submission.csv\")\n",
    "print(Sample.head(10))\n",
    "print(Sample.shape)"
   ]
  },
  {
   "cell_type": "code",
   "execution_count": 3,
   "metadata": {
    "_cell_guid": "79c7e3d0-c299-4dcb-8224-4455121ee9b0",
    "_uuid": "d629ff2d2480ee46fbb7e2d37f6b5fab8052498a",
    "execution": {
     "iopub.execute_input": "2020-11-21T16:20:32.294571Z",
     "iopub.status.busy": "2020-11-21T16:20:32.293852Z",
     "iopub.status.idle": "2020-11-21T16:20:36.537725Z",
     "shell.execute_reply": "2020-11-21T16:20:36.538356Z"
    },
    "papermill": {
     "duration": 4.294944,
     "end_time": "2020-11-21T16:20:36.538557",
     "exception": false,
     "start_time": "2020-11-21T16:20:32.243613",
     "status": "completed"
    },
    "tags": []
   },
   "outputs": [
    {
     "name": "stdout",
     "output_type": "stream",
     "text": [
      "(42000, 785)\n"
     ]
    },
    {
     "data": {
      "text/html": [
       "<div>\n",
       "<style scoped>\n",
       "    .dataframe tbody tr th:only-of-type {\n",
       "        vertical-align: middle;\n",
       "    }\n",
       "\n",
       "    .dataframe tbody tr th {\n",
       "        vertical-align: top;\n",
       "    }\n",
       "\n",
       "    .dataframe thead th {\n",
       "        text-align: right;\n",
       "    }\n",
       "</style>\n",
       "<table border=\"1\" class=\"dataframe\">\n",
       "  <thead>\n",
       "    <tr style=\"text-align: right;\">\n",
       "      <th></th>\n",
       "      <th>label</th>\n",
       "      <th>pixel0</th>\n",
       "      <th>pixel1</th>\n",
       "      <th>pixel2</th>\n",
       "      <th>pixel3</th>\n",
       "      <th>pixel4</th>\n",
       "      <th>pixel5</th>\n",
       "      <th>pixel6</th>\n",
       "      <th>pixel7</th>\n",
       "      <th>pixel8</th>\n",
       "      <th>...</th>\n",
       "      <th>pixel774</th>\n",
       "      <th>pixel775</th>\n",
       "      <th>pixel776</th>\n",
       "      <th>pixel777</th>\n",
       "      <th>pixel778</th>\n",
       "      <th>pixel779</th>\n",
       "      <th>pixel780</th>\n",
       "      <th>pixel781</th>\n",
       "      <th>pixel782</th>\n",
       "      <th>pixel783</th>\n",
       "    </tr>\n",
       "  </thead>\n",
       "  <tbody>\n",
       "    <tr>\n",
       "      <th>0</th>\n",
       "      <td>1</td>\n",
       "      <td>0</td>\n",
       "      <td>0</td>\n",
       "      <td>0</td>\n",
       "      <td>0</td>\n",
       "      <td>0</td>\n",
       "      <td>0</td>\n",
       "      <td>0</td>\n",
       "      <td>0</td>\n",
       "      <td>0</td>\n",
       "      <td>...</td>\n",
       "      <td>0</td>\n",
       "      <td>0</td>\n",
       "      <td>0</td>\n",
       "      <td>0</td>\n",
       "      <td>0</td>\n",
       "      <td>0</td>\n",
       "      <td>0</td>\n",
       "      <td>0</td>\n",
       "      <td>0</td>\n",
       "      <td>0</td>\n",
       "    </tr>\n",
       "    <tr>\n",
       "      <th>1</th>\n",
       "      <td>0</td>\n",
       "      <td>0</td>\n",
       "      <td>0</td>\n",
       "      <td>0</td>\n",
       "      <td>0</td>\n",
       "      <td>0</td>\n",
       "      <td>0</td>\n",
       "      <td>0</td>\n",
       "      <td>0</td>\n",
       "      <td>0</td>\n",
       "      <td>...</td>\n",
       "      <td>0</td>\n",
       "      <td>0</td>\n",
       "      <td>0</td>\n",
       "      <td>0</td>\n",
       "      <td>0</td>\n",
       "      <td>0</td>\n",
       "      <td>0</td>\n",
       "      <td>0</td>\n",
       "      <td>0</td>\n",
       "      <td>0</td>\n",
       "    </tr>\n",
       "    <tr>\n",
       "      <th>2</th>\n",
       "      <td>1</td>\n",
       "      <td>0</td>\n",
       "      <td>0</td>\n",
       "      <td>0</td>\n",
       "      <td>0</td>\n",
       "      <td>0</td>\n",
       "      <td>0</td>\n",
       "      <td>0</td>\n",
       "      <td>0</td>\n",
       "      <td>0</td>\n",
       "      <td>...</td>\n",
       "      <td>0</td>\n",
       "      <td>0</td>\n",
       "      <td>0</td>\n",
       "      <td>0</td>\n",
       "      <td>0</td>\n",
       "      <td>0</td>\n",
       "      <td>0</td>\n",
       "      <td>0</td>\n",
       "      <td>0</td>\n",
       "      <td>0</td>\n",
       "    </tr>\n",
       "    <tr>\n",
       "      <th>3</th>\n",
       "      <td>4</td>\n",
       "      <td>0</td>\n",
       "      <td>0</td>\n",
       "      <td>0</td>\n",
       "      <td>0</td>\n",
       "      <td>0</td>\n",
       "      <td>0</td>\n",
       "      <td>0</td>\n",
       "      <td>0</td>\n",
       "      <td>0</td>\n",
       "      <td>...</td>\n",
       "      <td>0</td>\n",
       "      <td>0</td>\n",
       "      <td>0</td>\n",
       "      <td>0</td>\n",
       "      <td>0</td>\n",
       "      <td>0</td>\n",
       "      <td>0</td>\n",
       "      <td>0</td>\n",
       "      <td>0</td>\n",
       "      <td>0</td>\n",
       "    </tr>\n",
       "    <tr>\n",
       "      <th>4</th>\n",
       "      <td>0</td>\n",
       "      <td>0</td>\n",
       "      <td>0</td>\n",
       "      <td>0</td>\n",
       "      <td>0</td>\n",
       "      <td>0</td>\n",
       "      <td>0</td>\n",
       "      <td>0</td>\n",
       "      <td>0</td>\n",
       "      <td>0</td>\n",
       "      <td>...</td>\n",
       "      <td>0</td>\n",
       "      <td>0</td>\n",
       "      <td>0</td>\n",
       "      <td>0</td>\n",
       "      <td>0</td>\n",
       "      <td>0</td>\n",
       "      <td>0</td>\n",
       "      <td>0</td>\n",
       "      <td>0</td>\n",
       "      <td>0</td>\n",
       "    </tr>\n",
       "    <tr>\n",
       "      <th>5</th>\n",
       "      <td>0</td>\n",
       "      <td>0</td>\n",
       "      <td>0</td>\n",
       "      <td>0</td>\n",
       "      <td>0</td>\n",
       "      <td>0</td>\n",
       "      <td>0</td>\n",
       "      <td>0</td>\n",
       "      <td>0</td>\n",
       "      <td>0</td>\n",
       "      <td>...</td>\n",
       "      <td>0</td>\n",
       "      <td>0</td>\n",
       "      <td>0</td>\n",
       "      <td>0</td>\n",
       "      <td>0</td>\n",
       "      <td>0</td>\n",
       "      <td>0</td>\n",
       "      <td>0</td>\n",
       "      <td>0</td>\n",
       "      <td>0</td>\n",
       "    </tr>\n",
       "    <tr>\n",
       "      <th>6</th>\n",
       "      <td>7</td>\n",
       "      <td>0</td>\n",
       "      <td>0</td>\n",
       "      <td>0</td>\n",
       "      <td>0</td>\n",
       "      <td>0</td>\n",
       "      <td>0</td>\n",
       "      <td>0</td>\n",
       "      <td>0</td>\n",
       "      <td>0</td>\n",
       "      <td>...</td>\n",
       "      <td>0</td>\n",
       "      <td>0</td>\n",
       "      <td>0</td>\n",
       "      <td>0</td>\n",
       "      <td>0</td>\n",
       "      <td>0</td>\n",
       "      <td>0</td>\n",
       "      <td>0</td>\n",
       "      <td>0</td>\n",
       "      <td>0</td>\n",
       "    </tr>\n",
       "    <tr>\n",
       "      <th>7</th>\n",
       "      <td>3</td>\n",
       "      <td>0</td>\n",
       "      <td>0</td>\n",
       "      <td>0</td>\n",
       "      <td>0</td>\n",
       "      <td>0</td>\n",
       "      <td>0</td>\n",
       "      <td>0</td>\n",
       "      <td>0</td>\n",
       "      <td>0</td>\n",
       "      <td>...</td>\n",
       "      <td>0</td>\n",
       "      <td>0</td>\n",
       "      <td>0</td>\n",
       "      <td>0</td>\n",
       "      <td>0</td>\n",
       "      <td>0</td>\n",
       "      <td>0</td>\n",
       "      <td>0</td>\n",
       "      <td>0</td>\n",
       "      <td>0</td>\n",
       "    </tr>\n",
       "    <tr>\n",
       "      <th>8</th>\n",
       "      <td>5</td>\n",
       "      <td>0</td>\n",
       "      <td>0</td>\n",
       "      <td>0</td>\n",
       "      <td>0</td>\n",
       "      <td>0</td>\n",
       "      <td>0</td>\n",
       "      <td>0</td>\n",
       "      <td>0</td>\n",
       "      <td>0</td>\n",
       "      <td>...</td>\n",
       "      <td>0</td>\n",
       "      <td>0</td>\n",
       "      <td>0</td>\n",
       "      <td>0</td>\n",
       "      <td>0</td>\n",
       "      <td>0</td>\n",
       "      <td>0</td>\n",
       "      <td>0</td>\n",
       "      <td>0</td>\n",
       "      <td>0</td>\n",
       "    </tr>\n",
       "    <tr>\n",
       "      <th>9</th>\n",
       "      <td>3</td>\n",
       "      <td>0</td>\n",
       "      <td>0</td>\n",
       "      <td>0</td>\n",
       "      <td>0</td>\n",
       "      <td>0</td>\n",
       "      <td>0</td>\n",
       "      <td>0</td>\n",
       "      <td>0</td>\n",
       "      <td>0</td>\n",
       "      <td>...</td>\n",
       "      <td>0</td>\n",
       "      <td>0</td>\n",
       "      <td>0</td>\n",
       "      <td>0</td>\n",
       "      <td>0</td>\n",
       "      <td>0</td>\n",
       "      <td>0</td>\n",
       "      <td>0</td>\n",
       "      <td>0</td>\n",
       "      <td>0</td>\n",
       "    </tr>\n",
       "  </tbody>\n",
       "</table>\n",
       "<p>10 rows × 785 columns</p>\n",
       "</div>"
      ],
      "text/plain": [
       "   label  pixel0  pixel1  pixel2  pixel3  pixel4  pixel5  pixel6  pixel7  \\\n",
       "0      1       0       0       0       0       0       0       0       0   \n",
       "1      0       0       0       0       0       0       0       0       0   \n",
       "2      1       0       0       0       0       0       0       0       0   \n",
       "3      4       0       0       0       0       0       0       0       0   \n",
       "4      0       0       0       0       0       0       0       0       0   \n",
       "5      0       0       0       0       0       0       0       0       0   \n",
       "6      7       0       0       0       0       0       0       0       0   \n",
       "7      3       0       0       0       0       0       0       0       0   \n",
       "8      5       0       0       0       0       0       0       0       0   \n",
       "9      3       0       0       0       0       0       0       0       0   \n",
       "\n",
       "   pixel8  ...  pixel774  pixel775  pixel776  pixel777  pixel778  pixel779  \\\n",
       "0       0  ...         0         0         0         0         0         0   \n",
       "1       0  ...         0         0         0         0         0         0   \n",
       "2       0  ...         0         0         0         0         0         0   \n",
       "3       0  ...         0         0         0         0         0         0   \n",
       "4       0  ...         0         0         0         0         0         0   \n",
       "5       0  ...         0         0         0         0         0         0   \n",
       "6       0  ...         0         0         0         0         0         0   \n",
       "7       0  ...         0         0         0         0         0         0   \n",
       "8       0  ...         0         0         0         0         0         0   \n",
       "9       0  ...         0         0         0         0         0         0   \n",
       "\n",
       "   pixel780  pixel781  pixel782  pixel783  \n",
       "0         0         0         0         0  \n",
       "1         0         0         0         0  \n",
       "2         0         0         0         0  \n",
       "3         0         0         0         0  \n",
       "4         0         0         0         0  \n",
       "5         0         0         0         0  \n",
       "6         0         0         0         0  \n",
       "7         0         0         0         0  \n",
       "8         0         0         0         0  \n",
       "9         0         0         0         0  \n",
       "\n",
       "[10 rows x 785 columns]"
      ]
     },
     "execution_count": 3,
     "metadata": {},
     "output_type": "execute_result"
    }
   ],
   "source": [
    "Train=pd.read_csv(\"../input/digit-recognizer/train.csv\")\n",
    "print(Train.shape)\n",
    "Train.head(10)"
   ]
  },
  {
   "cell_type": "code",
   "execution_count": 4,
   "metadata": {
    "execution": {
     "iopub.execute_input": "2020-11-21T16:20:36.673983Z",
     "iopub.status.busy": "2020-11-21T16:20:36.672909Z",
     "iopub.status.idle": "2020-11-21T16:20:39.198463Z",
     "shell.execute_reply": "2020-11-21T16:20:39.197910Z"
    },
    "papermill": {
     "duration": 2.589331,
     "end_time": "2020-11-21T16:20:39.198578",
     "exception": false,
     "start_time": "2020-11-21T16:20:36.609247",
     "status": "completed"
    },
    "tags": []
   },
   "outputs": [
    {
     "name": "stdout",
     "output_type": "stream",
     "text": [
      "(28000, 784)\n"
     ]
    },
    {
     "data": {
      "text/html": [
       "<div>\n",
       "<style scoped>\n",
       "    .dataframe tbody tr th:only-of-type {\n",
       "        vertical-align: middle;\n",
       "    }\n",
       "\n",
       "    .dataframe tbody tr th {\n",
       "        vertical-align: top;\n",
       "    }\n",
       "\n",
       "    .dataframe thead th {\n",
       "        text-align: right;\n",
       "    }\n",
       "</style>\n",
       "<table border=\"1\" class=\"dataframe\">\n",
       "  <thead>\n",
       "    <tr style=\"text-align: right;\">\n",
       "      <th></th>\n",
       "      <th>pixel0</th>\n",
       "      <th>pixel1</th>\n",
       "      <th>pixel2</th>\n",
       "      <th>pixel3</th>\n",
       "      <th>pixel4</th>\n",
       "      <th>pixel5</th>\n",
       "      <th>pixel6</th>\n",
       "      <th>pixel7</th>\n",
       "      <th>pixel8</th>\n",
       "      <th>pixel9</th>\n",
       "      <th>...</th>\n",
       "      <th>pixel774</th>\n",
       "      <th>pixel775</th>\n",
       "      <th>pixel776</th>\n",
       "      <th>pixel777</th>\n",
       "      <th>pixel778</th>\n",
       "      <th>pixel779</th>\n",
       "      <th>pixel780</th>\n",
       "      <th>pixel781</th>\n",
       "      <th>pixel782</th>\n",
       "      <th>pixel783</th>\n",
       "    </tr>\n",
       "  </thead>\n",
       "  <tbody>\n",
       "    <tr>\n",
       "      <th>0</th>\n",
       "      <td>0</td>\n",
       "      <td>0</td>\n",
       "      <td>0</td>\n",
       "      <td>0</td>\n",
       "      <td>0</td>\n",
       "      <td>0</td>\n",
       "      <td>0</td>\n",
       "      <td>0</td>\n",
       "      <td>0</td>\n",
       "      <td>0</td>\n",
       "      <td>...</td>\n",
       "      <td>0</td>\n",
       "      <td>0</td>\n",
       "      <td>0</td>\n",
       "      <td>0</td>\n",
       "      <td>0</td>\n",
       "      <td>0</td>\n",
       "      <td>0</td>\n",
       "      <td>0</td>\n",
       "      <td>0</td>\n",
       "      <td>0</td>\n",
       "    </tr>\n",
       "    <tr>\n",
       "      <th>1</th>\n",
       "      <td>0</td>\n",
       "      <td>0</td>\n",
       "      <td>0</td>\n",
       "      <td>0</td>\n",
       "      <td>0</td>\n",
       "      <td>0</td>\n",
       "      <td>0</td>\n",
       "      <td>0</td>\n",
       "      <td>0</td>\n",
       "      <td>0</td>\n",
       "      <td>...</td>\n",
       "      <td>0</td>\n",
       "      <td>0</td>\n",
       "      <td>0</td>\n",
       "      <td>0</td>\n",
       "      <td>0</td>\n",
       "      <td>0</td>\n",
       "      <td>0</td>\n",
       "      <td>0</td>\n",
       "      <td>0</td>\n",
       "      <td>0</td>\n",
       "    </tr>\n",
       "    <tr>\n",
       "      <th>2</th>\n",
       "      <td>0</td>\n",
       "      <td>0</td>\n",
       "      <td>0</td>\n",
       "      <td>0</td>\n",
       "      <td>0</td>\n",
       "      <td>0</td>\n",
       "      <td>0</td>\n",
       "      <td>0</td>\n",
       "      <td>0</td>\n",
       "      <td>0</td>\n",
       "      <td>...</td>\n",
       "      <td>0</td>\n",
       "      <td>0</td>\n",
       "      <td>0</td>\n",
       "      <td>0</td>\n",
       "      <td>0</td>\n",
       "      <td>0</td>\n",
       "      <td>0</td>\n",
       "      <td>0</td>\n",
       "      <td>0</td>\n",
       "      <td>0</td>\n",
       "    </tr>\n",
       "    <tr>\n",
       "      <th>3</th>\n",
       "      <td>0</td>\n",
       "      <td>0</td>\n",
       "      <td>0</td>\n",
       "      <td>0</td>\n",
       "      <td>0</td>\n",
       "      <td>0</td>\n",
       "      <td>0</td>\n",
       "      <td>0</td>\n",
       "      <td>0</td>\n",
       "      <td>0</td>\n",
       "      <td>...</td>\n",
       "      <td>0</td>\n",
       "      <td>0</td>\n",
       "      <td>0</td>\n",
       "      <td>0</td>\n",
       "      <td>0</td>\n",
       "      <td>0</td>\n",
       "      <td>0</td>\n",
       "      <td>0</td>\n",
       "      <td>0</td>\n",
       "      <td>0</td>\n",
       "    </tr>\n",
       "    <tr>\n",
       "      <th>4</th>\n",
       "      <td>0</td>\n",
       "      <td>0</td>\n",
       "      <td>0</td>\n",
       "      <td>0</td>\n",
       "      <td>0</td>\n",
       "      <td>0</td>\n",
       "      <td>0</td>\n",
       "      <td>0</td>\n",
       "      <td>0</td>\n",
       "      <td>0</td>\n",
       "      <td>...</td>\n",
       "      <td>0</td>\n",
       "      <td>0</td>\n",
       "      <td>0</td>\n",
       "      <td>0</td>\n",
       "      <td>0</td>\n",
       "      <td>0</td>\n",
       "      <td>0</td>\n",
       "      <td>0</td>\n",
       "      <td>0</td>\n",
       "      <td>0</td>\n",
       "    </tr>\n",
       "    <tr>\n",
       "      <th>5</th>\n",
       "      <td>0</td>\n",
       "      <td>0</td>\n",
       "      <td>0</td>\n",
       "      <td>0</td>\n",
       "      <td>0</td>\n",
       "      <td>0</td>\n",
       "      <td>0</td>\n",
       "      <td>0</td>\n",
       "      <td>0</td>\n",
       "      <td>0</td>\n",
       "      <td>...</td>\n",
       "      <td>0</td>\n",
       "      <td>0</td>\n",
       "      <td>0</td>\n",
       "      <td>0</td>\n",
       "      <td>0</td>\n",
       "      <td>0</td>\n",
       "      <td>0</td>\n",
       "      <td>0</td>\n",
       "      <td>0</td>\n",
       "      <td>0</td>\n",
       "    </tr>\n",
       "    <tr>\n",
       "      <th>6</th>\n",
       "      <td>0</td>\n",
       "      <td>0</td>\n",
       "      <td>0</td>\n",
       "      <td>0</td>\n",
       "      <td>0</td>\n",
       "      <td>0</td>\n",
       "      <td>0</td>\n",
       "      <td>0</td>\n",
       "      <td>0</td>\n",
       "      <td>0</td>\n",
       "      <td>...</td>\n",
       "      <td>0</td>\n",
       "      <td>0</td>\n",
       "      <td>0</td>\n",
       "      <td>0</td>\n",
       "      <td>0</td>\n",
       "      <td>0</td>\n",
       "      <td>0</td>\n",
       "      <td>0</td>\n",
       "      <td>0</td>\n",
       "      <td>0</td>\n",
       "    </tr>\n",
       "    <tr>\n",
       "      <th>7</th>\n",
       "      <td>0</td>\n",
       "      <td>0</td>\n",
       "      <td>0</td>\n",
       "      <td>0</td>\n",
       "      <td>0</td>\n",
       "      <td>0</td>\n",
       "      <td>0</td>\n",
       "      <td>0</td>\n",
       "      <td>0</td>\n",
       "      <td>0</td>\n",
       "      <td>...</td>\n",
       "      <td>0</td>\n",
       "      <td>0</td>\n",
       "      <td>0</td>\n",
       "      <td>0</td>\n",
       "      <td>0</td>\n",
       "      <td>0</td>\n",
       "      <td>0</td>\n",
       "      <td>0</td>\n",
       "      <td>0</td>\n",
       "      <td>0</td>\n",
       "    </tr>\n",
       "    <tr>\n",
       "      <th>8</th>\n",
       "      <td>0</td>\n",
       "      <td>0</td>\n",
       "      <td>0</td>\n",
       "      <td>0</td>\n",
       "      <td>0</td>\n",
       "      <td>0</td>\n",
       "      <td>0</td>\n",
       "      <td>0</td>\n",
       "      <td>0</td>\n",
       "      <td>0</td>\n",
       "      <td>...</td>\n",
       "      <td>0</td>\n",
       "      <td>0</td>\n",
       "      <td>0</td>\n",
       "      <td>0</td>\n",
       "      <td>0</td>\n",
       "      <td>0</td>\n",
       "      <td>0</td>\n",
       "      <td>0</td>\n",
       "      <td>0</td>\n",
       "      <td>0</td>\n",
       "    </tr>\n",
       "    <tr>\n",
       "      <th>9</th>\n",
       "      <td>0</td>\n",
       "      <td>0</td>\n",
       "      <td>0</td>\n",
       "      <td>0</td>\n",
       "      <td>0</td>\n",
       "      <td>0</td>\n",
       "      <td>0</td>\n",
       "      <td>0</td>\n",
       "      <td>0</td>\n",
       "      <td>0</td>\n",
       "      <td>...</td>\n",
       "      <td>0</td>\n",
       "      <td>0</td>\n",
       "      <td>0</td>\n",
       "      <td>0</td>\n",
       "      <td>0</td>\n",
       "      <td>0</td>\n",
       "      <td>0</td>\n",
       "      <td>0</td>\n",
       "      <td>0</td>\n",
       "      <td>0</td>\n",
       "    </tr>\n",
       "  </tbody>\n",
       "</table>\n",
       "<p>10 rows × 784 columns</p>\n",
       "</div>"
      ],
      "text/plain": [
       "   pixel0  pixel1  pixel2  pixel3  pixel4  pixel5  pixel6  pixel7  pixel8  \\\n",
       "0       0       0       0       0       0       0       0       0       0   \n",
       "1       0       0       0       0       0       0       0       0       0   \n",
       "2       0       0       0       0       0       0       0       0       0   \n",
       "3       0       0       0       0       0       0       0       0       0   \n",
       "4       0       0       0       0       0       0       0       0       0   \n",
       "5       0       0       0       0       0       0       0       0       0   \n",
       "6       0       0       0       0       0       0       0       0       0   \n",
       "7       0       0       0       0       0       0       0       0       0   \n",
       "8       0       0       0       0       0       0       0       0       0   \n",
       "9       0       0       0       0       0       0       0       0       0   \n",
       "\n",
       "   pixel9  ...  pixel774  pixel775  pixel776  pixel777  pixel778  pixel779  \\\n",
       "0       0  ...         0         0         0         0         0         0   \n",
       "1       0  ...         0         0         0         0         0         0   \n",
       "2       0  ...         0         0         0         0         0         0   \n",
       "3       0  ...         0         0         0         0         0         0   \n",
       "4       0  ...         0         0         0         0         0         0   \n",
       "5       0  ...         0         0         0         0         0         0   \n",
       "6       0  ...         0         0         0         0         0         0   \n",
       "7       0  ...         0         0         0         0         0         0   \n",
       "8       0  ...         0         0         0         0         0         0   \n",
       "9       0  ...         0         0         0         0         0         0   \n",
       "\n",
       "   pixel780  pixel781  pixel782  pixel783  \n",
       "0         0         0         0         0  \n",
       "1         0         0         0         0  \n",
       "2         0         0         0         0  \n",
       "3         0         0         0         0  \n",
       "4         0         0         0         0  \n",
       "5         0         0         0         0  \n",
       "6         0         0         0         0  \n",
       "7         0         0         0         0  \n",
       "8         0         0         0         0  \n",
       "9         0         0         0         0  \n",
       "\n",
       "[10 rows x 784 columns]"
      ]
     },
     "execution_count": 4,
     "metadata": {},
     "output_type": "execute_result"
    }
   ],
   "source": [
    "Test=pd.read_csv(\"../input/digit-recognizer/test.csv\")\n",
    "print(Test.shape)\n",
    "Test.head(10)\n"
   ]
  },
  {
   "cell_type": "code",
   "execution_count": 5,
   "metadata": {
    "execution": {
     "iopub.execute_input": "2020-11-21T16:20:39.364765Z",
     "iopub.status.busy": "2020-11-21T16:20:39.363384Z",
     "iopub.status.idle": "2020-11-21T16:20:39.367489Z",
     "shell.execute_reply": "2020-11-21T16:20:39.368050Z"
    },
    "papermill": {
     "duration": 0.132175,
     "end_time": "2020-11-21T16:20:39.368194",
     "exception": false,
     "start_time": "2020-11-21T16:20:39.236019",
     "status": "completed"
    },
    "tags": []
   },
   "outputs": [
    {
     "data": {
      "text/plain": [
       "0    1\n",
       "1    0\n",
       "2    1\n",
       "3    4\n",
       "4    0\n",
       "5    0\n",
       "6    7\n",
       "7    3\n",
       "8    5\n",
       "9    3\n",
       "Name: label, dtype: int64"
      ]
     },
     "execution_count": 5,
     "metadata": {},
     "output_type": "execute_result"
    }
   ],
   "source": [
    "x_Train=Train.drop(labels=\"label\",axis=1)\n",
    "y_Train=Train[\"label\"]\n",
    "y_Train.head(10)"
   ]
  },
  {
   "cell_type": "code",
   "execution_count": 6,
   "metadata": {
    "execution": {
     "iopub.execute_input": "2020-11-21T16:20:39.448833Z",
     "iopub.status.busy": "2020-11-21T16:20:39.448136Z",
     "iopub.status.idle": "2020-11-21T16:20:39.707512Z",
     "shell.execute_reply": "2020-11-21T16:20:39.708101Z"
    },
    "papermill": {
     "duration": 0.302826,
     "end_time": "2020-11-21T16:20:39.708268",
     "exception": false,
     "start_time": "2020-11-21T16:20:39.405442",
     "status": "completed"
    },
    "tags": []
   },
   "outputs": [
    {
     "data": {
      "text/plain": [
       "1    4684\n",
       "7    4401\n",
       "3    4351\n",
       "9    4188\n",
       "2    4177\n",
       "6    4137\n",
       "0    4132\n",
       "4    4072\n",
       "8    4063\n",
       "5    3795\n",
       "Name: label, dtype: int64"
      ]
     },
     "execution_count": 6,
     "metadata": {},
     "output_type": "execute_result"
    },
    {
     "data": {
      "image/png": "[encoded data removed]",
      "text/plain": [
       "<Figure size 1080x504 with 1 Axes>"
      ]
     },
     "metadata": {
      "needs_background": "light"
     },
     "output_type": "display_data"
    }
   ],
   "source": [
    "plt.figure(figsize=(15,7))\n",
    "sns.countplot(y_Train,palette=\"icefire\")\n",
    "plt.title(\"number of digit classes\")\n",
    "y_Train.value_counts()"
   ]
  },
  {
   "cell_type": "code",
   "execution_count": 7,
   "metadata": {
    "execution": {
     "iopub.execute_input": "2020-11-21T16:20:39.816082Z",
     "iopub.status.busy": "2020-11-21T16:20:39.814597Z",
     "iopub.status.idle": "2020-11-21T16:20:39.870364Z",
     "shell.execute_reply": "2020-11-21T16:20:39.870934Z"
    },
    "papermill": {
     "duration": 0.116449,
     "end_time": "2020-11-21T16:20:39.871089",
     "exception": false,
     "start_time": "2020-11-21T16:20:39.754640",
     "status": "completed"
    },
    "tags": []
   },
   "outputs": [
    {
     "data": {
      "image/png": "[encoded data removed]",
      "text/plain": [
       "<Figure size 432x288 with 1 Axes>"
      ]
     },
     "metadata": {
      "needs_background": "light"
     },
     "output_type": "display_data"
    }
   ],
   "source": [
    "img=x_Train.iloc[3].values\n",
    "img=img.reshape((28,28))\n",
    "plt.imshow(img,cmap=\"gray\")\n",
    "plt.title(y_Train[3])\n",
    "plt.axis(\"off\")\n",
    "plt.show()"
   ]
  },
  {
   "cell_type": "code",
   "execution_count": 8,
   "metadata": {
    "execution": {
     "iopub.execute_input": "2020-11-21T16:20:39.971144Z",
     "iopub.status.busy": "2020-11-21T16:20:39.970333Z",
     "iopub.status.idle": "2020-11-21T16:20:40.199482Z",
     "shell.execute_reply": "2020-11-21T16:20:40.198871Z"
    },
    "papermill": {
     "duration": 0.28268,
     "end_time": "2020-11-21T16:20:40.199620",
     "exception": false,
     "start_time": "2020-11-21T16:20:39.916940",
     "status": "completed"
    },
    "tags": []
   },
   "outputs": [
    {
     "name": "stdout",
     "output_type": "stream",
     "text": [
      "x train shape (42000, 28, 28, 1)\n",
      "x test shape (28000, 28, 28, 1)\n"
     ]
    }
   ],
   "source": [
    "x_Train=x_Train/255\n",
    "x_Test=Test/255\n",
    "x_Train=x_Train.values.reshape(-1,28,28,1)\n",
    "x_Test=x_Test.values.reshape(-1,28,28,1)\n",
    "print(\"x train shape\",x_Train.shape)\n",
    "print(\"x test shape\",x_Test.shape)"
   ]
  },
  {
   "cell_type": "markdown",
   "metadata": {
    "papermill": {
     "duration": 0.04093,
     "end_time": "2020-11-21T16:20:40.281276",
     "exception": false,
     "start_time": "2020-11-21T16:20:40.240346",
     "status": "completed"
    },
    "tags": []
   },
   "source": [
    "*target values reserved for machine learning*"
   ]
  },
  {
   "cell_type": "code",
   "execution_count": 9,
   "metadata": {
    "execution": {
     "iopub.execute_input": "2020-11-21T16:20:40.369968Z",
     "iopub.status.busy": "2020-11-21T16:20:40.368672Z",
     "iopub.status.idle": "2020-11-21T16:20:40.760553Z",
     "shell.execute_reply": "2020-11-21T16:20:40.761291Z"
    },
    "papermill": {
     "duration": 0.4404,
     "end_time": "2020-11-21T16:20:40.761468",
     "exception": false,
     "start_time": "2020-11-21T16:20:40.321068",
     "status": "completed"
    },
    "tags": []
   },
   "outputs": [],
   "source": [
    "X_train, X_val, ml_train, ml_val = train_test_split(x_Train, y_Train, test_size = 0.1, random_state=2)"
   ]
  },
  {
   "cell_type": "markdown",
   "metadata": {
    "papermill": {
     "duration": 0.040776,
     "end_time": "2020-11-21T16:20:40.843936",
     "exception": false,
     "start_time": "2020-11-21T16:20:40.803160",
     "status": "completed"
    },
    "tags": []
   },
   "source": [
    "*target values reserved for CNN*"
   ]
  },
  {
   "cell_type": "code",
   "execution_count": 10,
   "metadata": {
    "execution": {
     "iopub.execute_input": "2020-11-21T16:20:40.931079Z",
     "iopub.status.busy": "2020-11-21T16:20:40.930217Z",
     "iopub.status.idle": "2020-11-21T16:20:47.156713Z",
     "shell.execute_reply": "2020-11-21T16:20:47.155519Z"
    },
    "papermill": {
     "duration": 6.27151,
     "end_time": "2020-11-21T16:20:47.156852",
     "exception": false,
     "start_time": "2020-11-21T16:20:40.885342",
     "status": "completed"
    },
    "tags": []
   },
   "outputs": [],
   "source": [
    "from keras.utils.np_utils import to_categorical\n",
    "Y_train=to_categorical(y_Train,num_classes=10)"
   ]
  },
  {
   "cell_type": "code",
   "execution_count": 11,
   "metadata": {
    "execution": {
     "iopub.execute_input": "2020-11-21T16:20:47.252371Z",
     "iopub.status.busy": "2020-11-21T16:20:47.250783Z",
     "iopub.status.idle": "2020-11-21T16:20:47.642660Z",
     "shell.execute_reply": "2020-11-21T16:20:47.642039Z"
    },
    "papermill": {
     "duration": 0.443467,
     "end_time": "2020-11-21T16:20:47.642788",
     "exception": false,
     "start_time": "2020-11-21T16:20:47.199321",
     "status": "completed"
    },
    "tags": []
   },
   "outputs": [
    {
     "name": "stdout",
     "output_type": "stream",
     "text": [
      "x_train shape (37800, 28, 28, 1)\n",
      "x_val shape (4200, 28, 28, 1)\n",
      "y_train shape (37800, 10)\n",
      "y_val shape (4200, 10)\n"
     ]
    }
   ],
   "source": [
    "X_train, X_val, Y_train, Y_val = train_test_split(x_Train, Y_train, test_size = 0.1, random_state=2)\n",
    "print(\"x_train shape\",X_train.shape)\n",
    "print(\"x_val shape\",X_val.shape)\n",
    "print(\"y_train shape\",Y_train.shape)\n",
    "print(\"y_val shape\",Y_val.shape)"
   ]
  },
  {
   "cell_type": "markdown",
   "metadata": {
    "papermill": {
     "duration": 0.042741,
     "end_time": "2020-11-21T16:20:47.727293",
     "exception": false,
     "start_time": "2020-11-21T16:20:47.684552",
     "status": "completed"
    },
    "tags": []
   },
   "source": [
    "# *-Creation of the model*"
   ]
  },
  {
   "cell_type": "code",
   "execution_count": 12,
   "metadata": {
    "execution": {
     "iopub.execute_input": "2020-11-21T16:20:47.829094Z",
     "iopub.status.busy": "2020-11-21T16:20:47.828287Z",
     "iopub.status.idle": "2020-11-21T16:20:50.889234Z",
     "shell.execute_reply": "2020-11-21T16:20:50.888589Z"
    },
    "papermill": {
     "duration": 3.118389,
     "end_time": "2020-11-21T16:20:50.889367",
     "exception": false,
     "start_time": "2020-11-21T16:20:47.770978",
     "status": "completed"
    },
    "tags": []
   },
   "outputs": [],
   "source": [
    "from sklearn.metrics import confusion_matrix\n",
    "import itertools\n",
    "\n",
    "from keras.utils.np_utils import to_categorical\n",
    "from keras.models import Sequential\n",
    "from keras.layers import Dense, Dropout, Flatten, Conv2D, MaxPool2D\n",
    "from keras.optimizers import RMSprop,Adam\n",
    "from keras.preprocessing.image import ImageDataGenerator\n",
    "from keras.callbacks import ReduceLROnPlateau\n",
    "\n",
    "model = Sequential()\n",
    "#\n",
    "model.add(Conv2D(filters = 16, kernel_size = (3,3),padding = 'Same', \n",
    "                 activation ='relu', input_shape = (28,28,1)))\n",
    "model.add(MaxPool2D(pool_size=(2,2)))\n",
    "#\n",
    "model.add(Conv2D(filters = 8, kernel_size = (3,3),padding = 'Same', \n",
    "                 activation ='relu'))\n",
    "model.add(Conv2D(filters = 4, kernel_size = (3,3),padding = 'Same', \n",
    "                 activation ='relu'))\n",
    "model.add(MaxPool2D(pool_size=(2,2), strides=(2,2),name='feature_layer'))\n",
    "# fully connected\n",
    "model.add(Flatten())\n",
    "model.add(Dense(256, activation = \"relu\"))\n",
    "model.add(Dropout(0.5))\n",
    "model.add(Dense(10, activation = \"softmax\"))"
   ]
  },
  {
   "cell_type": "markdown",
   "metadata": {
    "papermill": {
     "duration": 0.041434,
     "end_time": "2020-11-21T16:20:50.972669",
     "exception": false,
     "start_time": "2020-11-21T16:20:50.931235",
     "status": "completed"
    },
    "tags": []
   },
   "source": [
    "*In this model, 196 features are created from each 28x28 image. By looking at the Flatten layer, you can see the number of features to create.*"
   ]
  },
  {
   "cell_type": "code",
   "execution_count": 13,
   "metadata": {
    "execution": {
     "iopub.execute_input": "2020-11-21T16:20:51.063761Z",
     "iopub.status.busy": "2020-11-21T16:20:51.062726Z",
     "iopub.status.idle": "2020-11-21T16:20:51.074569Z",
     "shell.execute_reply": "2020-11-21T16:20:51.073773Z"
    },
    "papermill": {
     "duration": 0.061692,
     "end_time": "2020-11-21T16:20:51.074713",
     "exception": false,
     "start_time": "2020-11-21T16:20:51.013021",
     "status": "completed"
    },
    "tags": []
   },
   "outputs": [
    {
     "name": "stdout",
     "output_type": "stream",
     "text": [
      "Model: \"sequential\"\n",
      "_________________________________________________________________\n",
      "Layer (type)                 Output Shape              Param #   \n",
      "=================================================================\n",
      "conv2d (Conv2D)              (None, 28, 28, 16)        160       \n",
      "_________________________________________________________________\n",
      "max_pooling2d (MaxPooling2D) (None, 14, 14, 16)        0         \n",
      "_________________________________________________________________\n",
      "conv2d_1 (Conv2D)            (None, 14, 14, 8)         1160      \n",
      "_________________________________________________________________\n",
      "conv2d_2 (Conv2D)            (None, 14, 14, 4)         292       \n",
      "_________________________________________________________________\n",
      "feature_layer (MaxPooling2D) (None, 7, 7, 4)           0         \n",
      "_________________________________________________________________\n",
      "flatten (Flatten)            (None, 196)               0         \n",
      "_________________________________________________________________\n",
      "dense (Dense)                (None, 256)               50432     \n",
      "_________________________________________________________________\n",
      "dropout (Dropout)            (None, 256)               0         \n",
      "_________________________________________________________________\n",
      "dense_1 (Dense)              (None, 10)                2570      \n",
      "=================================================================\n",
      "Total params: 54,614\n",
      "Trainable params: 54,614\n",
      "Non-trainable params: 0\n",
      "_________________________________________________________________\n"
     ]
    }
   ],
   "source": [
    "model.summary()"
   ]
  },
  {
   "cell_type": "code",
   "execution_count": 14,
   "metadata": {
    "execution": {
     "iopub.execute_input": "2020-11-21T16:20:51.177253Z",
     "iopub.status.busy": "2020-11-21T16:20:51.175177Z",
     "iopub.status.idle": "2020-11-21T16:20:51.185564Z",
     "shell.execute_reply": "2020-11-21T16:20:51.184391Z"
    },
    "papermill": {
     "duration": 0.066835,
     "end_time": "2020-11-21T16:20:51.185682",
     "exception": false,
     "start_time": "2020-11-21T16:20:51.118847",
     "status": "completed"
    },
    "tags": []
   },
   "outputs": [],
   "source": [
    "optimizer = Adam(lr=0.001, beta_1=0.9, beta_2=0.999)\n",
    "model.compile(optimizer = optimizer , loss = \"categorical_crossentropy\", metrics=[\"accuracy\"])\n",
    "epochs = 50 # for better result increase the epochs\n",
    "batch_size = 250\n",
    "datagen = ImageDataGenerator(\n",
    "        featurewise_center=False,  # set input mean to 0 over the dataset\n",
    "        samplewise_center=False,  # set each sample mean to 0\n",
    "        featurewise_std_normalization=False,  # divide inputs by std of the dataset\n",
    "        samplewise_std_normalization=False,  # divide each input by its std\n",
    "        zca_whitening=False,  # dimesion reduction\n",
    "        rotation_range=0.5,  # randomly rotate images in the range 5 degrees\n",
    "        zoom_range = 0.5, # Randomly zoom image 5%\n",
    "        width_shift_range=0.5,  # randomly shift images horizontally 5%\n",
    "        height_shift_range=0.5,  # randomly shift images vertically 5%\n",
    "        horizontal_flip=False,  # randomly flip images\n",
    "        vertical_flip=False)  # randomly flip images"
   ]
  },
  {
   "cell_type": "code",
   "execution_count": 15,
   "metadata": {
    "_kg_hide-output": true,
    "collapsed": true,
    "execution": {
     "iopub.execute_input": "2020-11-21T16:20:51.279457Z",
     "iopub.status.busy": "2020-11-21T16:20:51.278201Z",
     "iopub.status.idle": "2020-11-21T16:31:31.896440Z",
     "shell.execute_reply": "2020-11-21T16:31:31.895894Z"
    },
    "papermill": {
     "duration": 640.666907,
     "end_time": "2020-11-21T16:31:31.896618",
     "exception": false,
     "start_time": "2020-11-21T16:20:51.229711",
     "status": "completed"
    },
    "tags": []
   },
   "outputs": [
    {
     "name": "stdout",
     "output_type": "stream",
     "text": [
      "Epoch 1/50\n",
      "151/151 [==============================] - 13s 85ms/step - loss: 2.1679 - accuracy: 0.1956 - val_loss: 1.6894 - val_accuracy: 0.4264\n",
      "Epoch 2/50\n",
      "151/151 [==============================] - 13s 84ms/step - loss: 1.8527 - accuracy: 0.3379 - val_loss: 1.1960 - val_accuracy: 0.5890\n",
      "Epoch 3/50\n",
      "151/151 [==============================] - 14s 90ms/step - loss: 1.6383 - accuracy: 0.4264 - val_loss: 0.7709 - val_accuracy: 0.7810\n",
      "Epoch 4/50\n",
      "151/151 [==============================] - 13s 87ms/step - loss: 1.5015 - accuracy: 0.4798 - val_loss: 0.5675 - val_accuracy: 0.8600\n",
      "Epoch 5/50\n",
      "151/151 [==============================] - 13s 85ms/step - loss: 1.4067 - accuracy: 0.5131 - val_loss: 0.4635 - val_accuracy: 0.8738\n",
      "Epoch 6/50\n",
      "151/151 [==============================] - 13s 84ms/step - loss: 1.3332 - accuracy: 0.5396 - val_loss: 0.4207 - val_accuracy: 0.8871\n",
      "Epoch 7/50\n",
      "151/151 [==============================] - 13s 84ms/step - loss: 1.2919 - accuracy: 0.5549 - val_loss: 0.3811 - val_accuracy: 0.8874\n",
      "Epoch 8/50\n",
      "151/151 [==============================] - 13s 86ms/step - loss: 1.2478 - accuracy: 0.5728 - val_loss: 0.3305 - val_accuracy: 0.8976\n",
      "Epoch 9/50\n",
      "151/151 [==============================] - 13s 85ms/step - loss: 1.2237 - accuracy: 0.5783 - val_loss: 0.3972 - val_accuracy: 0.8793\n",
      "Epoch 10/50\n",
      "151/151 [==============================] - 12s 81ms/step - loss: 1.1892 - accuracy: 0.5893 - val_loss: 0.3031 - val_accuracy: 0.9098\n",
      "Epoch 11/50\n",
      "151/151 [==============================] - 13s 84ms/step - loss: 1.1629 - accuracy: 0.6002 - val_loss: 0.2595 - val_accuracy: 0.9212\n",
      "Epoch 12/50\n",
      "151/151 [==============================] - 13s 85ms/step - loss: 1.1498 - accuracy: 0.6035 - val_loss: 0.2813 - val_accuracy: 0.9088\n",
      "Epoch 13/50\n",
      "151/151 [==============================] - 12s 82ms/step - loss: 1.1110 - accuracy: 0.6208 - val_loss: 0.2837 - val_accuracy: 0.9117\n",
      "Epoch 14/50\n",
      "151/151 [==============================] - 13s 84ms/step - loss: 1.1091 - accuracy: 0.6197 - val_loss: 0.2567 - val_accuracy: 0.9214\n",
      "Epoch 15/50\n",
      "151/151 [==============================] - 12s 78ms/step - loss: 1.0920 - accuracy: 0.6257 - val_loss: 0.2725 - val_accuracy: 0.9169\n",
      "Epoch 16/50\n",
      "151/151 [==============================] - 12s 83ms/step - loss: 1.0747 - accuracy: 0.6334 - val_loss: 0.2512 - val_accuracy: 0.9257\n",
      "Epoch 17/50\n",
      "151/151 [==============================] - 14s 91ms/step - loss: 1.0575 - accuracy: 0.6361 - val_loss: 0.2727 - val_accuracy: 0.9193\n",
      "Epoch 18/50\n",
      "151/151 [==============================] - 12s 80ms/step - loss: 1.0496 - accuracy: 0.6419 - val_loss: 0.2330 - val_accuracy: 0.9269\n",
      "Epoch 19/50\n",
      "151/151 [==============================] - 13s 87ms/step - loss: 1.0427 - accuracy: 0.6426 - val_loss: 0.2270 - val_accuracy: 0.9281\n",
      "Epoch 20/50\n",
      "151/151 [==============================] - 12s 78ms/step - loss: 1.0298 - accuracy: 0.6464 - val_loss: 0.2080 - val_accuracy: 0.9348\n",
      "Epoch 21/50\n",
      "151/151 [==============================] - 12s 79ms/step - loss: 1.0242 - accuracy: 0.6490 - val_loss: 0.2229 - val_accuracy: 0.9312\n",
      "Epoch 22/50\n",
      "151/151 [==============================] - 14s 91ms/step - loss: 1.0284 - accuracy: 0.6465 - val_loss: 0.2167 - val_accuracy: 0.9321\n",
      "Epoch 23/50\n",
      "151/151 [==============================] - 12s 76ms/step - loss: 1.0109 - accuracy: 0.6521 - val_loss: 0.2717 - val_accuracy: 0.9226\n",
      "Epoch 24/50\n",
      "151/151 [==============================] - 12s 82ms/step - loss: 1.0070 - accuracy: 0.6569 - val_loss: 0.2212 - val_accuracy: 0.9288\n",
      "Epoch 25/50\n",
      "151/151 [==============================] - 13s 85ms/step - loss: 0.9961 - accuracy: 0.6610 - val_loss: 0.1952 - val_accuracy: 0.9390\n",
      "Epoch 26/50\n",
      "151/151 [==============================] - 12s 81ms/step - loss: 0.9919 - accuracy: 0.6615 - val_loss: 0.2662 - val_accuracy: 0.9243\n",
      "Epoch 27/50\n",
      "151/151 [==============================] - 14s 93ms/step - loss: 0.9943 - accuracy: 0.6622 - val_loss: 0.1918 - val_accuracy: 0.9393\n",
      "Epoch 28/50\n",
      "151/151 [==============================] - 11s 76ms/step - loss: 0.9704 - accuracy: 0.6685 - val_loss: 0.2100 - val_accuracy: 0.9390\n",
      "Epoch 29/50\n",
      "151/151 [==============================] - 12s 80ms/step - loss: 0.9715 - accuracy: 0.6715 - val_loss: 0.2042 - val_accuracy: 0.9345\n",
      "Epoch 30/50\n",
      "151/151 [==============================] - 13s 83ms/step - loss: 0.9669 - accuracy: 0.6727 - val_loss: 0.2270 - val_accuracy: 0.9305\n",
      "Epoch 31/50\n",
      "151/151 [==============================] - 12s 82ms/step - loss: 0.9642 - accuracy: 0.6708 - val_loss: 0.1882 - val_accuracy: 0.9443\n",
      "Epoch 32/50\n",
      "151/151 [==============================] - 14s 93ms/step - loss: 0.9519 - accuracy: 0.6730 - val_loss: 0.2302 - val_accuracy: 0.9274\n",
      "Epoch 33/50\n",
      "151/151 [==============================] - 11s 76ms/step - loss: 0.9522 - accuracy: 0.6756 - val_loss: 0.1968 - val_accuracy: 0.9405\n",
      "Epoch 34/50\n",
      "151/151 [==============================] - 12s 79ms/step - loss: 0.9398 - accuracy: 0.6815 - val_loss: 0.1812 - val_accuracy: 0.9464\n",
      "Epoch 35/50\n",
      "151/151 [==============================] - 13s 85ms/step - loss: 0.9369 - accuracy: 0.6791 - val_loss: 0.1933 - val_accuracy: 0.9400\n",
      "Epoch 36/50\n",
      "151/151 [==============================] - 13s 84ms/step - loss: 0.9370 - accuracy: 0.6826 - val_loss: 0.2139 - val_accuracy: 0.9386\n",
      "Epoch 37/50\n",
      "151/151 [==============================] - 12s 82ms/step - loss: 0.9295 - accuracy: 0.6807 - val_loss: 0.2019 - val_accuracy: 0.9419\n",
      "Epoch 38/50\n",
      "151/151 [==============================] - 13s 88ms/step - loss: 0.9338 - accuracy: 0.6819 - val_loss: 0.1825 - val_accuracy: 0.9424\n",
      "Epoch 39/50\n",
      "151/151 [==============================] - 12s 81ms/step - loss: 0.9229 - accuracy: 0.6857 - val_loss: 0.2211 - val_accuracy: 0.9393\n",
      "Epoch 40/50\n",
      "151/151 [==============================] - 13s 86ms/step - loss: 0.9287 - accuracy: 0.6828 - val_loss: 0.1941 - val_accuracy: 0.9433\n",
      "Epoch 41/50\n",
      "151/151 [==============================] - 13s 84ms/step - loss: 0.9264 - accuracy: 0.6867 - val_loss: 0.1881 - val_accuracy: 0.9419\n",
      "Epoch 42/50\n",
      "151/151 [==============================] - 13s 84ms/step - loss: 0.9133 - accuracy: 0.6881 - val_loss: 0.2053 - val_accuracy: 0.9417\n",
      "Epoch 43/50\n",
      "151/151 [==============================] - 13s 84ms/step - loss: 0.9205 - accuracy: 0.6848 - val_loss: 0.1757 - val_accuracy: 0.9476\n",
      "Epoch 44/50\n",
      "151/151 [==============================] - 12s 81ms/step - loss: 0.9064 - accuracy: 0.6904 - val_loss: 0.1779 - val_accuracy: 0.9481\n",
      "Epoch 45/50\n",
      "151/151 [==============================] - 12s 78ms/step - loss: 0.9028 - accuracy: 0.6926 - val_loss: 0.2030 - val_accuracy: 0.9402\n",
      "Epoch 46/50\n",
      "151/151 [==============================] - 14s 90ms/step - loss: 0.9159 - accuracy: 0.6863 - val_loss: 0.1795 - val_accuracy: 0.9457\n",
      "Epoch 47/50\n",
      "151/151 [==============================] - 12s 79ms/step - loss: 0.9041 - accuracy: 0.6927 - val_loss: 0.2169 - val_accuracy: 0.9388\n",
      "Epoch 48/50\n",
      "151/151 [==============================] - 12s 82ms/step - loss: 0.9139 - accuracy: 0.6861 - val_loss: 0.1709 - val_accuracy: 0.9507\n",
      "Epoch 49/50\n",
      "151/151 [==============================] - 13s 85ms/step - loss: 0.9045 - accuracy: 0.6909 - val_loss: 0.2029 - val_accuracy: 0.9407\n",
      "Epoch 50/50\n",
      "151/151 [==============================] - 12s 80ms/step - loss: 0.8907 - accuracy: 0.6956 - val_loss: 0.1874 - val_accuracy: 0.9467\n"
     ]
    }
   ],
   "source": [
    "datagen.fit(X_train)\n",
    "history = model.fit_generator(datagen.flow(X_train,Y_train, batch_size=batch_size),\n",
    "                              epochs = epochs, validation_data = (X_val,Y_val), steps_per_epoch=X_train.shape[0] // batch_size)"
   ]
  },
  {
   "cell_type": "code",
   "execution_count": 16,
   "metadata": {
    "execution": {
     "iopub.execute_input": "2020-11-21T16:31:37.878159Z",
     "iopub.status.busy": "2020-11-21T16:31:37.875725Z",
     "iopub.status.idle": "2020-11-21T16:31:38.084489Z",
     "shell.execute_reply": "2020-11-21T16:31:38.083944Z"
    },
    "papermill": {
     "duration": 3.04141,
     "end_time": "2020-11-21T16:31:38.084627",
     "exception": false,
     "start_time": "2020-11-21T16:31:35.043217",
     "status": "completed"
    },
    "tags": []
   },
   "outputs": [
    {
     "data": {
      "image/png": "[encoded data removed]",
      "text/plain": [
       "<Figure size 1080x720 with 1 Axes>"
      ]
     },
     "metadata": {
      "needs_background": "light"
     },
     "output_type": "display_data"
    }
   ],
   "source": [
    "from matplotlib import pyplot as plt\n",
    "plt.figure(figsize=(15,10))\n",
    "plt.grid(color='r', linestyle='dotted', linewidth=0.5)\n",
    "plt.plot(history.history['accuracy'], 'o-', color = '#9900CC')\n",
    "plt.title('model accuracy')\n",
    "plt.ylabel('accuracy')\n",
    "plt.xlabel('epoch')\n",
    "plt.legend(['train', 'val'], loc='upper left')\n",
    "plt.show()"
   ]
  },
  {
   "cell_type": "markdown",
   "metadata": {
    "papermill": {
     "duration": 2.852638,
     "end_time": "2020-11-21T16:31:43.666339",
     "exception": false,
     "start_time": "2020-11-21T16:31:40.813701",
     "status": "completed"
    },
    "tags": []
   },
   "source": [
    "The reason for low educational achievement here may be due to the use of a small number of epochs or filters."
   ]
  },
  {
   "cell_type": "code",
   "execution_count": 17,
   "metadata": {
    "execution": {
     "iopub.execute_input": "2020-11-21T16:31:49.474902Z",
     "iopub.status.busy": "2020-11-21T16:31:49.473611Z",
     "iopub.status.idle": "2020-11-21T16:31:49.734611Z",
     "shell.execute_reply": "2020-11-21T16:31:49.734019Z"
    },
    "papermill": {
     "duration": 3.07042,
     "end_time": "2020-11-21T16:31:49.734737",
     "exception": false,
     "start_time": "2020-11-21T16:31:46.664317",
     "status": "completed"
    },
    "tags": []
   },
   "outputs": [],
   "source": [
    "y_pred = model.predict(X_val)\n",
    "Y_pred = np.argmax(y_pred, 1) # Decode Predicted labels\n",
    "Y_val = np.argmax(Y_val, 1) # Decode labels"
   ]
  },
  {
   "cell_type": "code",
   "execution_count": 18,
   "metadata": {
    "execution": {
     "iopub.execute_input": "2020-11-21T16:31:55.845579Z",
     "iopub.status.busy": "2020-11-21T16:31:55.843943Z",
     "iopub.status.idle": "2020-11-21T16:31:55.848733Z",
     "shell.execute_reply": "2020-11-21T16:31:55.848240Z"
    },
    "papermill": {
     "duration": 2.957042,
     "end_time": "2020-11-21T16:31:55.848838",
     "exception": false,
     "start_time": "2020-11-21T16:31:52.891796",
     "status": "completed"
    },
    "tags": []
   },
   "outputs": [],
   "source": [
    "import seaborn as sns\n",
    "from sklearn.metrics import confusion_matrix\n",
    "from sklearn.metrics import accuracy_score\n",
    "accuracies = []\n",
    "def confusion(y_true,y_pred):\n",
    "    fig = plt.figure(figsize=(8,8)) # Set Figure\n",
    "    mat = confusion_matrix(y_true, y_pred) # Confusion matrix\n",
    "\n",
    "    # Plot Confusion matrix\n",
    "    sns.set(font_scale=2)\n",
    "    sns.heatmap(mat.T, square=True, annot=True, cbar=False, cmap=plt.cm.YlGnBu,fmt=\"d\")\n",
    "    plt.title(\"Confusion Matrix\")\n",
    "    plt.xlabel('Predicted Values')\n",
    "    plt.ylabel('True Values');\n",
    "    plt.show();\n",
    "    print(accuracy_score(y_true,y_pred))\n",
    "    accuracies.append(accuracy_score(y_true,y_pred))"
   ]
  },
  {
   "cell_type": "code",
   "execution_count": 19,
   "metadata": {
    "execution": {
     "iopub.execute_input": "2020-11-21T16:32:01.300360Z",
     "iopub.status.busy": "2020-11-21T16:32:01.299461Z",
     "iopub.status.idle": "2020-11-21T16:32:01.850367Z",
     "shell.execute_reply": "2020-11-21T16:32:01.849739Z"
    },
    "papermill": {
     "duration": 3.31339,
     "end_time": "2020-11-21T16:32:01.850494",
     "exception": false,
     "start_time": "2020-11-21T16:31:58.537104",
     "status": "completed"
    },
    "tags": []
   },
   "outputs": [
    {
     "data": {
      "image/png": "[encoded data removed]",
      "text/plain": [
       "<Figure size 576x576 with 1 Axes>"
      ]
     },
     "metadata": {
      "needs_background": "light"
     },
     "output_type": "display_data"
    },
    {
     "name": "stdout",
     "output_type": "stream",
     "text": [
      "0.9466666666666667\n"
     ]
    }
   ],
   "source": [
    "confusion(Y_val,Y_pred)"
   ]
  },
  {
   "cell_type": "markdown",
   "metadata": {
    "papermill": {
     "duration": 2.947123,
     "end_time": "2020-11-21T16:32:07.519008",
     "exception": false,
     "start_time": "2020-11-21T16:32:04.571885",
     "status": "completed"
    },
    "tags": []
   },
   "source": [
    "# Data Transfer"
   ]
  },
  {
   "cell_type": "markdown",
   "metadata": {
    "papermill": {
     "duration": 2.710634,
     "end_time": "2020-11-21T16:32:12.908293",
     "exception": false,
     "start_time": "2020-11-21T16:32:10.197659",
     "status": "completed"
    },
    "tags": []
   },
   "source": [
    "*In this part, we will take the new features from the model and apply machine learning methods*"
   ]
  },
  {
   "cell_type": "code",
   "execution_count": 20,
   "metadata": {
    "execution": {
     "iopub.execute_input": "2020-11-21T16:32:18.746887Z",
     "iopub.status.busy": "2020-11-21T16:32:18.745768Z",
     "iopub.status.idle": "2020-11-21T16:32:18.758970Z",
     "shell.execute_reply": "2020-11-21T16:32:18.758323Z"
    },
    "papermill": {
     "duration": 3.134855,
     "end_time": "2020-11-21T16:32:18.759085",
     "exception": false,
     "start_time": "2020-11-21T16:32:15.624230",
     "status": "completed"
    },
    "tags": []
   },
   "outputs": [],
   "source": [
    "from keras.models import Model\n",
    "new_model=Model(inputs=model.input,outputs=model.get_layer('feature_layer').output)"
   ]
  },
  {
   "cell_type": "code",
   "execution_count": 21,
   "metadata": {
    "execution": {
     "iopub.execute_input": "2020-11-21T16:32:24.577989Z",
     "iopub.status.busy": "2020-11-21T16:32:24.576835Z",
     "iopub.status.idle": "2020-11-21T16:32:25.847541Z",
     "shell.execute_reply": "2020-11-21T16:32:25.848049Z"
    },
    "papermill": {
     "duration": 4.322647,
     "end_time": "2020-11-21T16:32:25.848185",
     "exception": false,
     "start_time": "2020-11-21T16:32:21.525538",
     "status": "completed"
    },
    "tags": []
   },
   "outputs": [
    {
     "name": "stdout",
     "output_type": "stream",
     "text": [
      "(37800, 7, 7, 4)\n",
      "(4200, 7, 7, 4)\n"
     ]
    }
   ],
   "source": [
    "train_x=new_model.predict(X_train)\n",
    "test_x=new_model.predict(X_val)\n",
    "print(train_x.shape)\n",
    "print(test_x.shape)"
   ]
  },
  {
   "cell_type": "code",
   "execution_count": 22,
   "metadata": {
    "execution": {
     "iopub.execute_input": "2020-11-21T16:32:31.938690Z",
     "iopub.status.busy": "2020-11-21T16:32:31.937687Z",
     "iopub.status.idle": "2020-11-21T16:32:31.946579Z",
     "shell.execute_reply": "2020-11-21T16:32:31.947230Z"
    },
    "papermill": {
     "duration": 2.760598,
     "end_time": "2020-11-21T16:32:31.947430",
     "exception": false,
     "start_time": "2020-11-21T16:32:29.186832",
     "status": "completed"
    },
    "tags": []
   },
   "outputs": [
    {
     "name": "stdout",
     "output_type": "stream",
     "text": [
      "(37800, 196)\n",
      "(4200, 196)\n"
     ]
    }
   ],
   "source": [
    "train_x=train_x.reshape(train_x.shape[0],train_x.shape[1]*train_x.shape[2]*train_x.shape[3])\n",
    "test_x=test_x.reshape(test_x.shape[0],test_x.shape[1]*test_x.shape[2]*test_x.shape[3])\n",
    "print(train_x.shape)\n",
    "print(test_x.shape)"
   ]
  },
  {
   "cell_type": "markdown",
   "metadata": {
    "papermill": {
     "duration": 2.810378,
     "end_time": "2020-11-21T16:32:37.699717",
     "exception": false,
     "start_time": "2020-11-21T16:32:34.889339",
     "status": "completed"
    },
    "tags": []
   },
   "source": [
    "# KNN"
   ]
  },
  {
   "cell_type": "code",
   "execution_count": 23,
   "metadata": {
    "execution": {
     "iopub.execute_input": "2020-11-21T16:32:43.303431Z",
     "iopub.status.busy": "2020-11-21T16:32:43.302801Z",
     "iopub.status.idle": "2020-11-21T16:41:52.369595Z",
     "shell.execute_reply": "2020-11-21T16:41:52.368825Z"
    },
    "papermill": {
     "duration": 551.786712,
     "end_time": "2020-11-21T16:41:52.369737",
     "exception": false,
     "start_time": "2020-11-21T16:32:40.583025",
     "status": "completed"
    },
    "tags": []
   },
   "outputs": [
    {
     "name": "stdout",
     "output_type": "stream",
     "text": [
      "0.9932539682539683\n",
      "0.9847619047619047\n"
     ]
    }
   ],
   "source": [
    "#import KNeighborsClassifier\n",
    "from sklearn.neighbors import KNeighborsClassifier\n",
    "knn = KNeighborsClassifier(n_neighbors=3)\n",
    "knn.fit(train_x, ml_train)\n",
    "train_accuracy = knn.score(train_x, ml_train)\n",
    "test_accuracy = knn.score(test_x, ml_val) \n",
    "print(train_accuracy)\n",
    "print(test_accuracy)\n",
    "y_pred = knn.predict(test_x)"
   ]
  },
  {
   "cell_type": "code",
   "execution_count": 24,
   "metadata": {
    "execution": {
     "iopub.execute_input": "2020-11-21T16:41:57.803725Z",
     "iopub.status.busy": "2020-11-21T16:41:57.802700Z",
     "iopub.status.idle": "2020-11-21T16:41:58.305976Z",
     "shell.execute_reply": "2020-11-21T16:41:58.306702Z"
    },
    "papermill": {
     "duration": 3.223152,
     "end_time": "2020-11-21T16:41:58.306912",
     "exception": false,
     "start_time": "2020-11-21T16:41:55.083760",
     "status": "completed"
    },
    "tags": []
   },
   "outputs": [
    {
     "data": {
      "image/png": "[encoded data removed]",
      "text/plain": [
       "<Figure size 576x576 with 1 Axes>"
      ]
     },
     "metadata": {},
     "output_type": "display_data"
    },
    {
     "name": "stdout",
     "output_type": "stream",
     "text": [
      "0.9847619047619047\n"
     ]
    }
   ],
   "source": [
    "confusion(ml_val,y_pred)"
   ]
  },
  {
   "cell_type": "markdown",
   "metadata": {
    "papermill": {
     "duration": 2.676349,
     "end_time": "2020-11-21T16:42:04.563046",
     "exception": false,
     "start_time": "2020-11-21T16:42:01.886697",
     "status": "completed"
    },
    "tags": []
   },
   "source": [
    "# SVM"
   ]
  },
  {
   "cell_type": "code",
   "execution_count": 25,
   "metadata": {
    "execution": {
     "iopub.execute_input": "2020-11-21T16:42:09.902739Z",
     "iopub.status.busy": "2020-11-21T16:42:09.901475Z",
     "iopub.status.idle": "2020-11-21T16:42:24.793420Z",
     "shell.execute_reply": "2020-11-21T16:42:24.793970Z"
    },
    "papermill": {
     "duration": 17.582114,
     "end_time": "2020-11-21T16:42:24.794156",
     "exception": false,
     "start_time": "2020-11-21T16:42:07.212042",
     "status": "completed"
    },
    "tags": []
   },
   "outputs": [
    {
     "data": {
      "image/png": "[encoded data removed]",
      "text/plain": [
       "<Figure size 576x576 with 1 Axes>"
      ]
     },
     "metadata": {},
     "output_type": "display_data"
    },
    {
     "name": "stdout",
     "output_type": "stream",
     "text": [
      "0.9797619047619047\n"
     ]
    },
    {
     "data": {
      "text/plain": [
       "0.9797619047619047"
      ]
     },
     "execution_count": 25,
     "metadata": {},
     "output_type": "execute_result"
    }
   ],
   "source": [
    "from sklearn import svm\n",
    "#Create a svm Classifier\n",
    "clf = svm.SVC(kernel='linear') # Linear Kernel\n",
    "#Train the model using the training sets\n",
    "clf.fit(train_x, ml_train)\n",
    "#Predict the response for test dataset\n",
    "y_pred = clf.predict(test_x)\n",
    "confusion(ml_val,y_pred)\n",
    "from sklearn.metrics import accuracy_score\n",
    "accuracy_score(ml_val,y_pred)"
   ]
  },
  {
   "cell_type": "markdown",
   "metadata": {
    "papermill": {
     "duration": 2.755505,
     "end_time": "2020-11-21T16:42:30.557174",
     "exception": false,
     "start_time": "2020-11-21T16:42:27.801669",
     "status": "completed"
    },
    "tags": []
   },
   "source": [
    "# Decision Tree"
   ]
  },
  {
   "cell_type": "code",
   "execution_count": 26,
   "metadata": {
    "execution": {
     "iopub.execute_input": "2020-11-21T16:42:37.340018Z",
     "iopub.status.busy": "2020-11-21T16:42:37.339164Z",
     "iopub.status.idle": "2020-11-21T16:42:50.824506Z",
     "shell.execute_reply": "2020-11-21T16:42:50.823889Z"
    },
    "papermill": {
     "duration": 16.313002,
     "end_time": "2020-11-21T16:42:50.824623",
     "exception": false,
     "start_time": "2020-11-21T16:42:34.511621",
     "status": "completed"
    },
    "tags": []
   },
   "outputs": [
    {
     "data": {
      "image/png": "[encoded data removed]",
      "text/plain": [
       "<Figure size 576x576 with 1 Axes>"
      ]
     },
     "metadata": {},
     "output_type": "display_data"
    },
    {
     "name": "stdout",
     "output_type": "stream",
     "text": [
      "0.9185714285714286\n"
     ]
    }
   ],
   "source": [
    "from sklearn import tree\n",
    "clf = tree.DecisionTreeClassifier()\n",
    "clf = clf.fit(train_x, ml_train)\n",
    "y_pred = clf.predict(test_x)\n",
    "confusion(ml_val,y_pred)"
   ]
  },
  {
   "cell_type": "code",
   "execution_count": 27,
   "metadata": {
    "execution": {
     "iopub.execute_input": "2020-11-21T16:42:56.412887Z",
     "iopub.status.busy": "2020-11-21T16:42:56.412032Z",
     "iopub.status.idle": "2020-11-21T16:42:56.416020Z",
     "shell.execute_reply": "2020-11-21T16:42:56.415553Z"
    },
    "papermill": {
     "duration": 2.917529,
     "end_time": "2020-11-21T16:42:56.416122",
     "exception": false,
     "start_time": "2020-11-21T16:42:53.498593",
     "status": "completed"
    },
    "tags": []
   },
   "outputs": [
    {
     "data": {
      "text/plain": [
       "[0.9466666666666667,\n",
       " 0.9847619047619047,\n",
       " 0.9797619047619047,\n",
       " 0.9185714285714286]"
      ]
     },
     "execution_count": 27,
     "metadata": {},
     "output_type": "execute_result"
    }
   ],
   "source": [
    "accuracies"
   ]
  },
  {
   "cell_type": "markdown",
   "metadata": {
    "papermill": {
     "duration": 2.655646,
     "end_time": "2020-11-21T16:43:01.709758",
     "exception": false,
     "start_time": "2020-11-21T16:42:59.054112",
     "status": "completed"
    },
    "tags": []
   },
   "source": [
    "# Comparison of Test Accuracies"
   ]
  },
  {
   "cell_type": "code",
   "execution_count": 28,
   "metadata": {
    "execution": {
     "iopub.execute_input": "2020-11-21T16:43:07.951008Z",
     "iopub.status.busy": "2020-11-21T16:43:07.950212Z",
     "iopub.status.idle": "2020-11-21T16:43:08.187916Z",
     "shell.execute_reply": "2020-11-21T16:43:08.186835Z"
    },
    "papermill": {
     "duration": 3.711329,
     "end_time": "2020-11-21T16:43:08.188032",
     "exception": false,
     "start_time": "2020-11-21T16:43:04.476703",
     "status": "completed"
    },
    "tags": []
   },
   "outputs": [
    {
     "data": {
      "text/html": [
       "        <script type=\"text/javascript\">\n",
       "        window.PlotlyConfig = {MathJaxConfig: 'local'};\n",
       "        if (window.MathJax) {MathJax.Hub.Config({SVG: {font: \"STIX-Web\"}});}\n",
       "        if (typeof require !== 'undefined') {\n",
       "        require.undef(\"plotly\");\n",
       "        requirejs.config({\n",
       "            paths: {\n",
       "                'plotly': ['https://cdn.plot.ly/plotly-latest.min']\n",
       "            }\n",
       "        });\n",
       "        require(['plotly'], function(Plotly) {\n",
       "            window._Plotly = Plotly;\n",
       "        });\n",
       "        }\n",
       "        </script>\n",
       "        "
      ]
     },
     "metadata": {},
     "output_type": "display_data"
    },
    {
     "data": {
      "text/html": [
       "<div>                            <div id=\"668579e9-2b10-4b8f-87c6-63ea361be025\" class=\"plotly-graph-div\" style=\"height:300px; width:500px;\"></div>            <script type=\"text/javascript\">                require([\"plotly\"], function(Plotly) {                    window.PLOTLYENV=window.PLOTLYENV || {};                                    if (document.getElementById(\"668579e9-2b10-4b8f-87c6-63ea361be025\")) {                    Plotly.newPlot(                        \"668579e9-2b10-4b8f-87c6-63ea361be025\",                        [{\"cells\": {\"align\": \"left\", \"fill\": {\"color\": \"lightcyan\"}, \"line\": {\"color\": \"darkslategray\"}, \"values\": [[\"DLNN\", \"KNN\", \"SVM\", \"DT\"], [0.9466666666666667, 0.9847619047619047, 0.9797619047619047, 0.9185714285714286]]}, \"header\": {\"align\": \"left\", \"fill\": {\"color\": \"lightskyblue\"}, \"line\": {\"color\": \"darkslategray\"}, \"values\": [\"Method\", \"Accuracies\"]}, \"type\": \"table\"}],                        {\"height\": 300, \"template\": {\"data\": {\"bar\": [{\"error_x\": {\"color\": \"#2a3f5f\"}, \"error_y\": {\"color\": \"#2a3f5f\"}, \"marker\": {\"line\": {\"color\": \"#E5ECF6\", \"width\": 0.5}}, \"type\": \"bar\"}], \"barpolar\": [{\"marker\": {\"line\": {\"color\": \"#E5ECF6\", \"width\": 0.5}}, \"type\": \"barpolar\"}], \"carpet\": [{\"aaxis\": {\"endlinecolor\": \"#2a3f5f\", \"gridcolor\": \"white\", \"linecolor\": \"white\", \"minorgridcolor\": \"white\", \"startlinecolor\": \"#2a3f5f\"}, \"baxis\": {\"endlinecolor\": \"#2a3f5f\", \"gridcolor\": \"white\", \"linecolor\": \"white\", \"minorgridcolor\": \"white\", \"startlinecolor\": \"#2a3f5f\"}, \"type\": \"carpet\"}], \"choropleth\": [{\"colorbar\": {\"outlinewidth\": 0, \"ticks\": \"\"}, \"type\": \"choropleth\"}], \"contour\": [{\"colorbar\": {\"outlinewidth\": 0, \"ticks\": \"\"}, \"colorscale\": [[0.0, \"#0d0887\"], [0.1111111111111111, \"#46039f\"], [0.2222222222222222, \"#7201a8\"], [0.3333333333333333, \"#9c179e\"], [0.4444444444444444, \"#bd3786\"], [0.5555555555555556, \"#d8576b\"], [0.6666666666666666, \"#ed7953\"], [0.7777777777777778, \"#fb9f3a\"], [0.8888888888888888, \"#fdca26\"], [1.0, \"#f0f921\"]], \"type\": \"contour\"}], \"contourcarpet\": [{\"colorbar\": {\"outlinewidth\": 0, \"ticks\": \"\"}, \"type\": \"contourcarpet\"}], \"heatmap\": [{\"colorbar\": {\"outlinewidth\": 0, \"ticks\": \"\"}, \"colorscale\": [[0.0, \"#0d0887\"], [0.1111111111111111, \"#46039f\"], [0.2222222222222222, \"#7201a8\"], [0.3333333333333333, \"#9c179e\"], [0.4444444444444444, \"#bd3786\"], [0.5555555555555556, \"#d8576b\"], [0.6666666666666666, \"#ed7953\"], [0.7777777777777778, \"#fb9f3a\"], [0.8888888888888888, \"#fdca26\"], [1.0, \"#f0f921\"]], \"type\": \"heatmap\"}], \"heatmapgl\": [{\"colorbar\": {\"outlinewidth\": 0, \"ticks\": \"\"}, \"colorscale\": [[0.0, \"#0d0887\"], [0.1111111111111111, \"#46039f\"], [0.2222222222222222, \"#7201a8\"], [0.3333333333333333, \"#9c179e\"], [0.4444444444444444, \"#bd3786\"], [0.5555555555555556, \"#d8576b\"], [0.6666666666666666, \"#ed7953\"], [0.7777777777777778, \"#fb9f3a\"], [0.8888888888888888, \"#fdca26\"], [1.0, \"#f0f921\"]], \"type\": \"heatmapgl\"}], \"histogram\": [{\"marker\": {\"colorbar\": {\"outlinewidth\": 0, \"ticks\": \"\"}}, \"type\": \"histogram\"}], \"histogram2d\": [{\"colorbar\": {\"outlinewidth\": 0, \"ticks\": \"\"}, \"colorscale\": [[0.0, \"#0d0887\"], [0.1111111111111111, \"#46039f\"], [0.2222222222222222, \"#7201a8\"], [0.3333333333333333, \"#9c179e\"], [0.4444444444444444, \"#bd3786\"], [0.5555555555555556, \"#d8576b\"], [0.6666666666666666, \"#ed7953\"], [0.7777777777777778, \"#fb9f3a\"], [0.8888888888888888, \"#fdca26\"], [1.0, \"#f0f921\"]], \"type\": \"histogram2d\"}], \"histogram2dcontour\": [{\"colorbar\": {\"outlinewidth\": 0, \"ticks\": \"\"}, \"colorscale\": [[0.0, \"#0d0887\"], [0.1111111111111111, \"#46039f\"], [0.2222222222222222, \"#7201a8\"], [0.3333333333333333, \"#9c179e\"], [0.4444444444444444, \"#bd3786\"], [0.5555555555555556, \"#d8576b\"], [0.6666666666666666, \"#ed7953\"], [0.7777777777777778, \"#fb9f3a\"], [0.8888888888888888, \"#fdca26\"], [1.0, \"#f0f921\"]], \"type\": \"histogram2dcontour\"}], \"mesh3d\": [{\"colorbar\": {\"outlinewidth\": 0, \"ticks\": \"\"}, \"type\": \"mesh3d\"}], \"parcoords\": [{\"line\": {\"colorbar\": {\"outlinewidth\": 0, \"ticks\": \"\"}}, \"type\": \"parcoords\"}], \"pie\": [{\"automargin\": true, \"type\": \"pie\"}], \"scatter\": [{\"marker\": {\"colorbar\": {\"outlinewidth\": 0, \"ticks\": \"\"}}, \"type\": \"scatter\"}], \"scatter3d\": [{\"line\": {\"colorbar\": {\"outlinewidth\": 0, \"ticks\": \"\"}}, \"marker\": {\"colorbar\": {\"outlinewidth\": 0, \"ticks\": \"\"}}, \"type\": \"scatter3d\"}], \"scattercarpet\": [{\"marker\": {\"colorbar\": {\"outlinewidth\": 0, \"ticks\": \"\"}}, \"type\": \"scattercarpet\"}], \"scattergeo\": [{\"marker\": {\"colorbar\": {\"outlinewidth\": 0, \"ticks\": \"\"}}, \"type\": \"scattergeo\"}], \"scattergl\": [{\"marker\": {\"colorbar\": {\"outlinewidth\": 0, \"ticks\": \"\"}}, \"type\": \"scattergl\"}], \"scattermapbox\": [{\"marker\": {\"colorbar\": {\"outlinewidth\": 0, \"ticks\": \"\"}}, \"type\": \"scattermapbox\"}], \"scatterpolar\": [{\"marker\": {\"colorbar\": {\"outlinewidth\": 0, \"ticks\": \"\"}}, \"type\": \"scatterpolar\"}], \"scatterpolargl\": [{\"marker\": {\"colorbar\": {\"outlinewidth\": 0, \"ticks\": \"\"}}, \"type\": \"scatterpolargl\"}], \"scatterternary\": [{\"marker\": {\"colorbar\": {\"outlinewidth\": 0, \"ticks\": \"\"}}, \"type\": \"scatterternary\"}], \"surface\": [{\"colorbar\": {\"outlinewidth\": 0, \"ticks\": \"\"}, \"colorscale\": [[0.0, \"#0d0887\"], [0.1111111111111111, \"#46039f\"], [0.2222222222222222, \"#7201a8\"], [0.3333333333333333, \"#9c179e\"], [0.4444444444444444, \"#bd3786\"], [0.5555555555555556, \"#d8576b\"], [0.6666666666666666, \"#ed7953\"], [0.7777777777777778, \"#fb9f3a\"], [0.8888888888888888, \"#fdca26\"], [1.0, \"#f0f921\"]], \"type\": \"surface\"}], \"table\": [{\"cells\": {\"fill\": {\"color\": \"#EBF0F8\"}, \"line\": {\"color\": \"white\"}}, \"header\": {\"fill\": {\"color\": \"#C8D4E3\"}, \"line\": {\"color\": \"white\"}}, \"type\": \"table\"}]}, \"layout\": {\"annotationdefaults\": {\"arrowcolor\": \"#2a3f5f\", \"arrowhead\": 0, \"arrowwidth\": 1}, \"coloraxis\": {\"colorbar\": {\"outlinewidth\": 0, \"ticks\": \"\"}}, \"colorscale\": {\"diverging\": [[0, \"#8e0152\"], [0.1, \"#c51b7d\"], [0.2, \"#de77ae\"], [0.3, \"#f1b6da\"], [0.4, \"#fde0ef\"], [0.5, \"#f7f7f7\"], [0.6, \"#e6f5d0\"], [0.7, \"#b8e186\"], [0.8, \"#7fbc41\"], [0.9, \"#4d9221\"], [1, \"#276419\"]], \"sequential\": [[0.0, \"#0d0887\"], [0.1111111111111111, \"#46039f\"], [0.2222222222222222, \"#7201a8\"], [0.3333333333333333, \"#9c179e\"], [0.4444444444444444, \"#bd3786\"], [0.5555555555555556, \"#d8576b\"], [0.6666666666666666, \"#ed7953\"], [0.7777777777777778, \"#fb9f3a\"], [0.8888888888888888, \"#fdca26\"], [1.0, \"#f0f921\"]], \"sequentialminus\": [[0.0, \"#0d0887\"], [0.1111111111111111, \"#46039f\"], [0.2222222222222222, \"#7201a8\"], [0.3333333333333333, \"#9c179e\"], [0.4444444444444444, \"#bd3786\"], [0.5555555555555556, \"#d8576b\"], [0.6666666666666666, \"#ed7953\"], [0.7777777777777778, \"#fb9f3a\"], [0.8888888888888888, \"#fdca26\"], [1.0, \"#f0f921\"]]}, \"colorway\": [\"#636efa\", \"#EF553B\", \"#00cc96\", \"#ab63fa\", \"#FFA15A\", \"#19d3f3\", \"#FF6692\", \"#B6E880\", \"#FF97FF\", \"#FECB52\"], \"font\": {\"color\": \"#2a3f5f\"}, \"geo\": {\"bgcolor\": \"white\", \"lakecolor\": \"white\", \"landcolor\": \"#E5ECF6\", \"showlakes\": true, \"showland\": true, \"subunitcolor\": \"white\"}, \"hoverlabel\": {\"align\": \"left\"}, \"hovermode\": \"closest\", \"mapbox\": {\"style\": \"light\"}, \"paper_bgcolor\": \"white\", \"plot_bgcolor\": \"#E5ECF6\", \"polar\": {\"angularaxis\": {\"gridcolor\": \"white\", \"linecolor\": \"white\", \"ticks\": \"\"}, \"bgcolor\": \"#E5ECF6\", \"radialaxis\": {\"gridcolor\": \"white\", \"linecolor\": \"white\", \"ticks\": \"\"}}, \"scene\": {\"xaxis\": {\"backgroundcolor\": \"#E5ECF6\", \"gridcolor\": \"white\", \"gridwidth\": 2, \"linecolor\": \"white\", \"showbackground\": true, \"ticks\": \"\", \"zerolinecolor\": \"white\"}, \"yaxis\": {\"backgroundcolor\": \"#E5ECF6\", \"gridcolor\": \"white\", \"gridwidth\": 2, \"linecolor\": \"white\", \"showbackground\": true, \"ticks\": \"\", \"zerolinecolor\": \"white\"}, \"zaxis\": {\"backgroundcolor\": \"#E5ECF6\", \"gridcolor\": \"white\", \"gridwidth\": 2, \"linecolor\": \"white\", \"showbackground\": true, \"ticks\": \"\", \"zerolinecolor\": \"white\"}}, \"shapedefaults\": {\"line\": {\"color\": \"#2a3f5f\"}}, \"ternary\": {\"aaxis\": {\"gridcolor\": \"white\", \"linecolor\": \"white\", \"ticks\": \"\"}, \"baxis\": {\"gridcolor\": \"white\", \"linecolor\": \"white\", \"ticks\": \"\"}, \"bgcolor\": \"#E5ECF6\", \"caxis\": {\"gridcolor\": \"white\", \"linecolor\": \"white\", \"ticks\": \"\"}}, \"title\": {\"x\": 0.05}, \"xaxis\": {\"automargin\": true, \"gridcolor\": \"white\", \"linecolor\": \"white\", \"ticks\": \"\", \"title\": {\"standoff\": 15}, \"zerolinecolor\": \"white\", \"zerolinewidth\": 2}, \"yaxis\": {\"automargin\": true, \"gridcolor\": \"white\", \"linecolor\": \"white\", \"ticks\": \"\", \"title\": {\"standoff\": 15}, \"zerolinecolor\": \"white\", \"zerolinewidth\": 2}}}, \"width\": 500},                        {\"responsive\": true}                    ).then(function(){\n",
       "                            \n",
       "var gd = document.getElementById('668579e9-2b10-4b8f-87c6-63ea361be025');\n",
       "var x = new MutationObserver(function (mutations, observer) {{\n",
       "        var display = window.getComputedStyle(gd).display;\n",
       "        if (!display || display === 'none') {{\n",
       "            console.log([gd, 'removed!']);\n",
       "            Plotly.purge(gd);\n",
       "            observer.disconnect();\n",
       "        }}\n",
       "}});\n",
       "\n",
       "// Listen for the removal of the full notebook cells\n",
       "var notebookContainer = gd.closest('#notebook-container');\n",
       "if (notebookContainer) {{\n",
       "    x.observe(notebookContainer, {childList: true});\n",
       "}}\n",
       "\n",
       "// Listen for the clearing of the current output cell\n",
       "var outputEl = gd.closest('.output');\n",
       "if (outputEl) {{\n",
       "    x.observe(outputEl, {childList: true});\n",
       "}}\n",
       "\n",
       "                        })                };                });            </script>        </div>"
      ]
     },
     "metadata": {},
     "output_type": "display_data"
    }
   ],
   "source": [
    "Labels = [\"DLNN\",\"KNN\",\"SVM\",\"DT\"]\n",
    "import plotly.graph_objects as go\n",
    "\n",
    "fig = go.Figure(data=[go.Table(\n",
    "    header=dict(values=['Method', 'Accuracies'],\n",
    "                line_color='darkslategray',\n",
    "                fill_color='lightskyblue',\n",
    "                align='left'),\n",
    "    cells=dict(values=[Labels, # 1st column\n",
    "                       accuracies], # 2nd column\n",
    "               line_color='darkslategray',\n",
    "               fill_color='lightcyan',\n",
    "               align='left'))\n",
    "])\n",
    "\n",
    "fig.update_layout(width=500, height=300)\n",
    "fig.show()"
   ]
  },
  {
   "cell_type": "markdown",
   "metadata": {
    "papermill": {
     "duration": 2.758956,
     "end_time": "2020-11-21T16:43:13.714588",
     "exception": false,
     "start_time": "2020-11-21T16:43:10.955632",
     "status": "completed"
    },
    "tags": []
   },
   "source": [
    "# Result"
   ]
  },
  {
   "cell_type": "markdown",
   "metadata": {
    "papermill": {
     "duration": 2.94974,
     "end_time": "2020-11-21T16:43:19.376515",
     "exception": false,
     "start_time": "2020-11-21T16:43:16.426775",
     "status": "completed"
    },
    "tags": []
   },
   "source": [
    "If you look at the results of the tried methods, it seems that the success of the test is very high. But looking at DLNN (Deep Learning Neural Network), it seems that training accuracy is low. This value can be increased by increasing the number of filters or epochs. The reason we use a small number of filters in this study is to reduce the number of features and get results in less time than long-term methods such as knn. If you want, you can observe how the results change by playing with these values. Thank you for reading."
   ]
  },
  {
   "cell_type": "markdown",
   "metadata": {
    "papermill": {
     "duration": 2.631422,
     "end_time": "2020-11-21T16:43:24.766886",
     "exception": false,
     "start_time": "2020-11-21T16:43:22.135464",
     "status": "completed"
    },
    "tags": []
   },
   "source": [
    "# *Please don't forget like this tutorial and follow me! *"
   ]
  },
  {
   "cell_type": "markdown",
   "metadata": {
    "papermill": {
     "duration": 2.957875,
     "end_time": "2020-11-21T16:43:30.827755",
     "exception": false,
     "start_time": "2020-11-21T16:43:27.869880",
     "status": "completed"
    },
    "tags": []
   },
   "source": [
    "![](https://i.giphy.com/media/diUKszNTUghVe/giphy.webp)"
   ]
  }
 ],
 "metadata": {
  "kernelspec": {
   "display_name": "Python 3",
   "language": "python",
   "name": "python3"
  },
  "language_info": {
   "codemirror_mode": {
    "name": "ipython",
    "version": 3
   },
   "file_extension": ".py",
   "mimetype": "text/x-python",
   "name": "python",
   "nbconvert_exporter": "python",
   "pygments_lexer": "ipython3",
   "version": "3.7.6"
  },
  "papermill": {
   "duration": 1390.189742,
   "end_time": "2020-11-21T16:43:35.090781",
   "environment_variables": {},
   "exception": null,
   "input_path": "__notebook__.ipynb",
   "output_path": "__notebook__.ipynb",
   "parameters": {},
   "start_time": "2020-11-21T16:20:24.901039",
   "version": "2.1.0"
  }
 },
 "nbformat": 4,
 "nbformat_minor": 4
}
